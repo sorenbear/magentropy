{
 "cells": [
  {
   "cell_type": "markdown",
   "metadata": {},
   "source": [
    "# Plotting Data"
   ]
  },
  {
   "cell_type": "code",
   "execution_count": null,
   "metadata": {
    "tags": [
     "hide-output"
    ]
   },
   "outputs": [],
   "source": [
    "import matplotlib.pyplot as plt\n",
    "from magentropy import MagentroData\n",
    "\n",
    "magdata = MagentroData('magdata.dat')\n",
    "magdata.process_data()"
   ]
  },
  {
   "cell_type": "code",
   "execution_count": null,
   "metadata": {
    "tags": [
     "remove-cell"
    ]
   },
   "outputs": [],
   "source": [
    "import matplotlib as mpl\n",
    "mpl.rcParams['figure.dpi'] = 180"
   ]
  },
  {
   "cell_type": "markdown",
   "metadata": {},
   "source": [
    "Data may be plotted as lines using {{ plot_lines }} or as a map using {{ plot_map }}.\n",
    "In each, the property may be specified by the `data_prop` parameter, which can take\n",
    "values `'M_per_mass'`, `'M_per_mass_err'`, `'dM_dT'`, or `'Delta_SM'`, corresponding\n",
    "to the moment per mass, moment per mass error, derivative with respect to temperature,\n",
    "and entropy, respectively. The data version is specified by the `data_version` parameter,\n",
    "which can take values `'raw'`, `'converted'`, or `'processed'`. Line plots can also\n",
    "include converted and processed data together if `data_version = 'compare'`.\n",
    "\n",
    "Both methods accept an optional `ax` argument specifying the {{ Axes }} to use, as well as optional\n",
    "`T_range` and `H_range` arguments limiting the temperature and magenetic field range, respectively."
   ]
  },
  {
   "cell_type": "markdown",
   "metadata": {},
   "source": [
    "```{important}\n",
    "All plotting parameters referring to physical quantities, such as `T_range`, `H_range`,\n",
    "and `offset`, are expected to be in the units indicated by `data_version`.\n",
    "```"
   ]
  },
  {
   "cell_type": "markdown",
   "metadata": {},
   "source": [
    "## Lines\n",
    "\n",
    "By default, line plots group data by magnetic field using the settings in {{ last_presets }}.\n",
    "The data is grouped by temperature if `at_temps`, a list of temperatures, is supplied.\n",
    "A legend can be added with `legend = True` (default `False`)."
   ]
  },
  {
   "cell_type": "code",
   "execution_count": null,
   "metadata": {
    "mystnb": {
     "image": {
      "alt": "plotting lines legend example",
      "width": "100%"
     }
    }
   },
   "outputs": [],
   "source": [
    "fig, ax = plt.subplots(1, 2, figsize=(10, 5), sharey=True)\n",
    "\n",
    "magdata.plot_lines(data_prop='Delta_SM', data_version='processed', ax=ax[0], legend=True)\n",
    "\n",
    "magdata.plot_lines(\n",
    "    data_prop='Delta_SM', data_version='processed', ax=ax[1],\n",
    "    at_temps=[20, 40, 60, 80], legend=True\n",
    ")\n",
    "\n",
    "ax[1].set_ylabel('')\n",
    "fig.tight_layout();"
   ]
  },
  {
   "cell_type": "markdown",
   "metadata": {},
   "source": [
    "Setting `data_version = 'compare'` plots both the converted and processed data as dots and lines, respectively:"
   ]
  },
  {
   "cell_type": "code",
   "execution_count": null,
   "metadata": {
    "mystnb": {
     "image": {
      "alt": "compare lines example",
      "width": "60%"
     }
    }
   },
   "outputs": [],
   "source": [
    "fig, ax = plt.subplots(figsize=(6, 4))\n",
    "magdata.plot_lines(data_prop='dM_dT', data_version='compare', ax=ax);"
   ]
  },
  {
   "cell_type": "markdown",
   "metadata": {},
   "source": [
    "An `offset` can be added to better view the shapes of individual lines, though this must be\n",
    "taken into account when reading off the vertical axis.\n",
    "\n",
    "A discrete {{ Colorbar }} can be added with `colorbar = True`."
   ]
  },
  {
   "cell_type": "code",
   "execution_count": null,
   "metadata": {
    "mystnb": {
     "image": {
      "alt": "color bar lines example",
      "width": "75%"
     }
    }
   },
   "outputs": [],
   "source": [
    "fig, ax = plt.subplots(figsize=(8, 4))\n",
    "magdata.plot_lines(data_prop='dM_dT', data_version='processed', ax=ax, offset=0.8, colorbar=True);"
   ]
  },
  {
   "cell_type": "markdown",
   "metadata": {},
   "source": [
    "Adding a {{ Colorbar }} is easiest for individual plots. Some extra work is required when adding\n",
    "{{ Colorbar }}s to {{ Figure }}s with multiple {{ Axes }}."
   ]
  },
  {
   "cell_type": "code",
   "execution_count": null,
   "metadata": {
    "mystnb": {
     "image": {
      "alt": "advanced color bar lines example",
      "width": "100%"
     }
    }
   },
   "outputs": [],
   "source": [
    "fig, ax = plt.subplots(1, 2, figsize=(12, 5), sharey=True)\n",
    "\n",
    "magdata.plot_lines(\n",
    "    data_prop='Delta_SM', data_version='processed', ax=ax[0],\n",
    "    colorbar=True, colorbar_kwargs={'ax': ax[0], 'fraction': 0.07, 'pad': 0.05}\n",
    ")\n",
    "\n",
    "magdata.plot_lines(\n",
    "    data_prop='Delta_SM', data_version='processed', ax=ax[1], at_temps=[20, 40, 60, 80],\n",
    "    colorbar=True, colorbar_kwargs={'ax': ax[1], 'fraction': 0.07, 'pad': 0.05}\n",
    ")\n",
    "\n",
    "ax[1].set_ylabel('');"
   ]
  },
  {
   "cell_type": "markdown",
   "metadata": {},
   "source": [
    "Note the use of `colorbar_kwargs` to pass keyword arguments directly to {{ Figure_colorbar }}.\n",
    "Similarly, `plot_kwargs` can pass keyword arguments to {{ Axes_plot }}. It can be either a\n",
    "single dictionary or a list of dictionaries corresponding to the lines."
   ]
  },
  {
   "cell_type": "code",
   "execution_count": null,
   "metadata": {
    "mystnb": {
     "image": {
      "alt": "plot keyword arguments lines example",
      "width": "60%"
     }
    }
   },
   "outputs": [],
   "source": [
    "fig, ax = plt.subplots(figsize=(6, 4))\n",
    "\n",
    "magdata.plot_lines(\n",
    "    data_prop='dM_dT', data_version='processed', ax=ax,\n",
    "    plot_kwargs=[\n",
    "        {'linewidth': 2},\n",
    "        {'linestyle': '--'},\n",
    "        {'linestyle': '', 'markersize': 0.1, 'marker': '.'},\n",
    "        {'color': 'red'},\n",
    "        {}\n",
    "    ]\n",
    ");"
   ]
  },
  {
   "cell_type": "markdown",
   "metadata": {},
   "source": [
    "See {{ plot_lines }} for full documentation."
   ]
  },
  {
   "cell_type": "markdown",
   "metadata": {},
   "source": [
    "## Maps\n",
    "\n",
    "The method {{ plot_map }} creates a heat map with temperature on the horizontal axis,\n",
    "magnetic field strength on the vertical axis, and `data_prop` as the color.\n",
    "By default, `colorbar` is `True` for maps."
   ]
  },
  {
   "cell_type": "code",
   "execution_count": null,
   "metadata": {
    "mystnb": {
     "image": {
      "alt": "derivative map example",
      "width": "60%"
     }
    }
   },
   "outputs": [],
   "source": [
    "fig, ax = plt.subplots(figsize=(6, 4))\n",
    "magdata.plot_map(data_prop='dM_dT', data_version='processed', ax=ax);"
   ]
  },
  {
   "cell_type": "markdown",
   "metadata": {},
   "source": [
    "Notice that the color range is automatically centered around zero, clipping extreme values,\n",
    "as indicated by the arrow at the bottom of the {{ Colorbar }}. This is useful in many cases;\n",
    "however, if this behavior is not desired, one can explicitly pass `center = False` to the method."
   ]
  },
  {
   "cell_type": "code",
   "execution_count": null,
   "metadata": {
    "mystnb": {
     "image": {
      "alt": "derivative map with no color centering example",
      "width": "60%"
     }
    }
   },
   "outputs": [],
   "source": [
    "fig, ax = plt.subplots(figsize=(6, 4))\n",
    "magdata.plot_map(data_prop='dM_dT', data_version='processed', ax=ax, center=False);"
   ]
  },
  {
   "cell_type": "markdown",
   "metadata": {},
   "source": [
    "When the colors are not centered around zero, the `cmap` is changed to one that is sequential,\n",
    "rather than diverging. Keyword arguments such as `cmap` can be passed to {{ Axes_imshow }}\n",
    "via `imshow_kwargs`:"
   ]
  },
  {
   "cell_type": "code",
   "execution_count": null,
   "metadata": {
    "mystnb": {
     "image": {
      "alt": "derivative map color map example",
      "width": "60%"
     }
    }
   },
   "outputs": [],
   "source": [
    "fig, ax = plt.subplots(figsize=(6, 4))\n",
    "\n",
    "magdata.plot_map(\n",
    "    data_prop='dM_dT', data_version='processed', ax=ax,\n",
    "    center=False, imshow_kwargs={'cmap': 'jet'}\n",
    ");"
   ]
  },
  {
   "cell_type": "markdown",
   "metadata": {},
   "source": [
    "Contours can also be added with `contour = True`\n",
    "and customized with `contour_kwargs`, passed to {{ Axes_contour }}."
   ]
  },
  {
   "cell_type": "code",
   "execution_count": null,
   "metadata": {
    "mystnb": {
     "image": {
      "alt": "derivative map contours example",
      "width": "60%"
     }
    }
   },
   "outputs": [],
   "source": [
    "fig, ax = plt.subplots(figsize=(6, 4))\n",
    "\n",
    "magdata.plot_map(\n",
    "    data_prop='dM_dT', data_version='processed', ax=ax, center=False,\n",
    "    contour=True, contour_kwargs={'linewidths': 1.0}\n",
    ");"
   ]
  },
  {
   "cell_type": "markdown",
   "metadata": {},
   "source": [
    "The grids used to construct the maps are available directly using {{ get_map_grid }}.\n",
    "For example,"
   ]
  },
  {
   "cell_type": "code",
   "execution_count": null,
   "metadata": {},
   "outputs": [],
   "source": [
    "T_grid, H_grid, Delta_SM_grid = magdata.get_map_grid(data_prop='Delta_SM', data_version='processed')\n",
    "Delta_SM_grid[:3, :3]"
   ]
  },
  {
   "cell_type": "code",
   "execution_count": null,
   "metadata": {},
   "outputs": [],
   "source": [
    "T_grid[:3, :3]"
   ]
  },
  {
   "cell_type": "code",
   "execution_count": null,
   "metadata": {},
   "outputs": [],
   "source": [
    "H_grid[:3, :3]"
   ]
  },
  {
   "cell_type": "markdown",
   "metadata": {},
   "source": [
    "By default, linear interpolation is used to create the grids. It is recommended to at least start\n",
    "with linear interpolation, as cubic interpolation can occasionally result in artifacts.\n",
    "The interpolation method, passed to {func}`scipy.interpolate.griddata`'s `method` parameter,\n",
    "can be specified in {{ get_map_grid }} or in {{ plot_map }} with `interp_method`:"
   ]
  },
  {
   "cell_type": "code",
   "execution_count": null,
   "metadata": {
    "mystnb": {
     "image": {
      "alt": "map interpolation example",
      "width": "100%"
     }
    }
   },
   "outputs": [],
   "source": [
    "fig, ax = plt.subplots(1, 2, figsize=(12, 5), sharey=True)\n",
    "\n",
    "magdata.plot_map(\n",
    "    data_prop='Delta_SM', data_version='processed', ax=ax[0],\n",
    "    colorbar=False,\n",
    "    interp_method='linear'\n",
    ")\n",
    "\n",
    "magdata.plot_map(\n",
    "    data_prop='Delta_SM', data_version='processed', ax=ax[1],\n",
    "    colorbar_kwargs={'ax': ax, 'fraction': 0.1, 'pad': 0.05},\n",
    "    interp_method='cubic'\n",
    ")\n",
    "\n",
    "ax[0].set_title('Linear interpolation')\n",
    "ax[1].set_title('Cubic interpolation')\n",
    "ax[1].set_ylabel('');"
   ]
  },
  {
   "cell_type": "markdown",
   "metadata": {},
   "source": [
    "We can see that cubic interpolation produces a smoother result than linear\n",
    "interpolation, with no noticeable artifacts in this case."
   ]
  },
  {
   "cell_type": "markdown",
   "metadata": {},
   "source": [
    "## Previously-processed data"
   ]
  },
  {
   "cell_type": "markdown",
   "metadata": {},
   "source": [
    "It is possible to plot previously-processed data contained in {{ DataFrame }}s using the class\n",
    "methods {{ plot_processed_lines }} and {{ plot_processed_map }}. This allows one to avoid having\n",
    "to re-process data. As an example, we'll use the processed data from above."
   ]
  },
  {
   "cell_type": "code",
   "execution_count": null,
   "metadata": {
    "mystnb": {
     "image": {
      "alt": "plotting previously processed data example",
      "width": "100%"
     }
    }
   },
   "outputs": [],
   "source": [
    "processed_df = magdata.processed_df\n",
    "\n",
    "fig, ax = plt.subplots(1, 2, figsize=(12, 5))\n",
    "\n",
    "MagentroData.plot_processed_lines(processed_df, data_prop='M_per_mass', ax=ax[0], legend=True)\n",
    "\n",
    "MagentroData.plot_processed_map(\n",
    "    processed_df, data_prop='M_per_mass', ax=ax[1],\n",
    "    colorbar_kwargs={'ax': ax, 'fraction': 0.05, 'pad': 0.01}\n",
    ");"
   ]
  },
  {
   "cell_type": "markdown",
   "metadata": {},
   "source": [
    "In {{ plot_processed_lines }}, a `compare_df` can also be supplied for comparison plots."
   ]
  },
  {
   "cell_type": "code",
   "execution_count": null,
   "metadata": {
    "mystnb": {
     "image": {
      "alt": "plot processed lines compare data frame example",
      "width": "60%"
     }
    }
   },
   "outputs": [],
   "source": [
    "converted_df = magdata.converted_df\n",
    "\n",
    "fig, ax = plt.subplots(figsize=(6, 4))\n",
    "\n",
    "MagentroData.plot_processed_lines(\n",
    "    processed_df, compare_df=converted_df,\n",
    "    data_prop='M_per_mass', ax=ax, legend=True\n",
    ");"
   ]
  },
  {
   "cell_type": "markdown",
   "metadata": {},
   "source": [
    "With the exception of `data_version`, the rest of the parameters for {{ plot_lines }} and\n",
    "{{ plot_map }} are also available for these two methods."
   ]
  },
  {
   "cell_type": "markdown",
   "metadata": {},
   "source": [
    "## Convenience methods\n",
    "\n",
    "Three convenience plotting methods are available."
   ]
  },
  {
   "cell_type": "markdown",
   "metadata": {},
   "source": [
    "{{ plot }} passes keyword arguments to {{ plot_lines }} or {{ plot_map }} depending on whether\n",
    "`plot_type` is `'lines'` or `'map'`."
   ]
  },
  {
   "cell_type": "code",
   "execution_count": null,
   "metadata": {
    "mystnb": {
     "image": {
      "alt": "convenience plot example",
      "width": "60%"
     }
    }
   },
   "outputs": [],
   "source": [
    "fig, ax = plt.subplots(figsize=(6, 4))\n",
    "\n",
    "magdata.plot(\n",
    "    plot_type='lines', data_prop='dM_dT', data_version='converted',\n",
    "    ax=ax, at_temps=[20, 40, 60, 80], colorbar=True\n",
    ");"
   ]
  },
  {
   "cell_type": "markdown",
   "metadata": {},
   "source": [
    "Similarly, {{ plot_processed }} passes keyword arguments to {{ plot_processed_lines }} or\n",
    "{{ plot_processed_map }}."
   ]
  },
  {
   "cell_type": "code",
   "execution_count": null,
   "metadata": {
    "mystnb": {
     "image": {
      "alt": "convenience plot processed example",
      "width": "60%"
     }
    }
   },
   "outputs": [],
   "source": [
    "fig, ax = plt.subplots(figsize=(6, 4))\n",
    "\n",
    "MagentroData.plot_processed(\n",
    "    plot_type='map', processed_df=processed_df, data_prop='Delta_SM',\n",
    "    ax=ax, center=False, contour=True\n",
    ");"
   ]
  },
  {
   "cell_type": "markdown",
   "metadata": {},
   "source": [
    "Lastly, {{ plot_all }} accepts no arguments and plots every plot combination with the default\n",
    "arguments, as well as some line plots grouped by temperature. This can be used as an initial\n",
    "inspection of all the data after {{ process_data }} is run. However, the output is quite long.\n",
    "Be sure to include a semicolon afterwards if running in a notebook to suppress unwanted text output!"
   ]
  },
  {
   "cell_type": "code",
   "execution_count": null,
   "metadata": {
    "mystnb": {
     "image": {
      "alt": "convenience plot all example",
      "width": "60%"
     }
    },
    "tags": [
     "hide-output"
    ]
   },
   "outputs": [],
   "source": [
    "magdata.plot_all();"
   ]
  }
 ],
 "metadata": {
  "kernelspec": {
   "display_name": "Python 3.7.3 64-bit",
   "language": "python",
   "name": "python3"
  },
  "language_info": {
   "codemirror_mode": {
    "name": "ipython",
    "version": 3
   },
   "file_extension": ".py",
   "mimetype": "text/x-python",
   "name": "python",
   "nbconvert_exporter": "python",
   "pygments_lexer": "ipython3",
   "version": "3.7.3"
  },
  "orig_nbformat": 4,
  "vscode": {
   "interpreter": {
    "hash": "31f2aee4e71d21fbe5cf8b01ff0e069b9275f58929596ceb00d14d90e3e16cd6"
   }
  }
 },
 "nbformat": 4,
 "nbformat_minor": 2
}
