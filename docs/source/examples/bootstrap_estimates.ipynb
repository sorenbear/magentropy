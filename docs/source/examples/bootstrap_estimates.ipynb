{
 "cells": [
  {
   "cell_type": "markdown",
   "metadata": {},
   "source": [
    "# Bootstrap estimates"
   ]
  },
  {
   "cell_type": "code",
   "execution_count": null,
   "metadata": {
    "tags": [
     "hide-output"
    ]
   },
   "outputs": [],
   "source": [
    "from magentropy import MagentroData\n",
    "\n",
    "magdata = MagentroData('magdata.dat')\n",
    "magdata.process_data()"
   ]
  },
  {
   "cell_type": "code",
   "execution_count": null,
   "metadata": {},
   "outputs": [],
   "source": [
    "magdata.processed_df"
   ]
  },
  {
   "cell_type": "markdown",
   "metadata": {},
   "source": [
    "The problem of estimating true statistical model parameters using a single data set is commonly\n",
    "approached using bootstrap procedures. Given data of length {math}`N`, bootstrap resampling involves\n",
    "repeatedly sampling {math}`N` points from the data *with replacement*, fitting a model to each of\n",
    "the {math}`N_\\mathrm{B}` data samples, and computing the parameter of interest from the\n",
    "{math}`N_\\mathrm{B}` fitted models.\n",
    "\n",
    "In our case, we want to estimate the error at each output point of the smoothed magnetic moment.\n",
    "To do this, the standard deviation of each smoothed magnetic moment point is computed from the\n",
    "values of {math}`N_\\mathrm{B}` fitted models at each point. Every model is computed using a subset\n",
    "(again, sampled with replacement) of the original data, though the smoothed moment is evaluated at\n",
    "the same linearly-spaced points every time. (The output points are specified in {{ presets }} as\n",
    "part of {doc}`data processing <processing_data>`.)\n",
    "\n",
    "There are a few significant caveats associated with this approach. Each caveat get its own little\n",
    "admonition below. Please read!"
   ]
  },
  {
   "cell_type": "markdown",
   "metadata": {},
   "source": [
    "```{attention}\n",
    "The bootstrap method presented here is purely experimental and is not detailed in either of the\n",
    "sources listed on the {doc}`homepage <../index>`.\n",
    "```"
   ]
  },
  {
   "cell_type": "markdown",
   "metadata": {},
   "source": [
    "```{caution}\n",
    "{math}`N_\\mathrm{B}` regularization problems must be solved for every temperature sweep taken at a\n",
    "particular field strength. As such, this method is computationally expensive and can take upwards\n",
    "of ten minutes to run on typical magnetization data, depending on the size of the data and how many\n",
    "models are fitted at each field.\n",
    "```"
   ]
  },
  {
   "cell_type": "markdown",
   "metadata": {},
   "source": [
    "```{important}\n",
    "Bootstrap estimates in the context of regularization are dependent on the chosen regularization\n",
    "parameter {math}`\\lambda`. These error estimates should not be viewed as \"true\" estimates but\n",
    "rather as the estimates for a *given* {math}`\\lambda`. This method should only be used once the\n",
    "user is confident their {math}`\\lambda`'s are appropriate.\n",
    "```"
   ]
  },
  {
   "cell_type": "markdown",
   "metadata": {},
   "source": [
    "Caveats aside, the method is simple, if time-consuming. Two arguments are supported: `n_bootstrap`\n",
    "(the number of models to fit at each field) and `random_seed` (for reproducibility)."
   ]
  },
  {
   "cell_type": "code",
   "execution_count": null,
   "metadata": {},
   "outputs": [],
   "source": [
    "magdata.bootstrap(n_bootstrap=100, random_seed=0)"
   ]
  },
  {
   "cell_type": "markdown",
   "metadata": {},
   "source": [
    "The error columns in {{ processed_df }} are now filled:"
   ]
  },
  {
   "cell_type": "code",
   "execution_count": null,
   "metadata": {},
   "outputs": [],
   "source": [
    "magdata.processed_df"
   ]
  },
  {
   "cell_type": "markdown",
   "metadata": {},
   "source": [
    "We can make a simple plot of the errors using the usual {mod}`matplotlib` tools.\n",
    "Built-in plotting of errors may be added in the future."
   ]
  },
  {
   "cell_type": "code",
   "execution_count": null,
   "metadata": {
    "tags": [
     "remove-cell"
    ]
   },
   "outputs": [],
   "source": [
    "import matplotlib as mpl\n",
    "mpl.rcParams['figure.dpi'] = 180"
   ]
  },
  {
   "cell_type": "code",
   "execution_count": null,
   "metadata": {
    "mystnb": {
     "image": {
      "alt": "bootstrap error estimates plot",
      "width": "75%"
     }
    }
   },
   "outputs": [],
   "source": [
    "import matplotlib.pyplot as plt\n",
    "\n",
    "fig, ax = plt.subplots(figsize=(6, 4))\n",
    "\n",
    "for i in range(0, 4001, 1000):\n",
    "    ax.plot('T', 'M_per_mass_err', '.', data=magdata.processed_df.iloc[i:i+1000, :], markersize=0.5)\n",
    "\n",
    "ax.set(\n",
    "    xlabel='$T$ (K)',\n",
    "    ylabel='Moment per mass error (emu/g)',\n",
    "    title='Bootstrap error estimates'\n",
    ");"
   ]
  }
 ],
 "metadata": {
  "kernelspec": {
   "display_name": "Python 3.10.4 ('magentropy-dev')",
   "language": "python",
   "name": "python3"
  },
  "language_info": {
   "codemirror_mode": {
    "name": "ipython",
    "version": 3
   },
   "file_extension": ".py",
   "mimetype": "text/x-python",
   "name": "python",
   "nbconvert_exporter": "python",
   "pygments_lexer": "ipython3",
   "version": "3.10.4"
  },
  "orig_nbformat": 4,
  "vscode": {
   "interpreter": {
    "hash": "5ab78a24dcd5d2f912eb3dd8dff5c36262a9ffc4f386b5a71d4924d641a6e82d"
   }
  }
 },
 "nbformat": 4,
 "nbformat_minor": 2
}
