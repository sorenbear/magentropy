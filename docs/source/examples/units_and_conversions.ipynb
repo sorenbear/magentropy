{
 "cells": [
  {
   "cell_type": "markdown",
   "metadata": {},
   "source": [
    "# Units and Conversions"
   ]
  },
  {
   "cell_type": "markdown",
   "metadata": {},
   "source": [
    "```{note}\n",
    "MagentroPy uses the {mod}`pint` package internally for unit conversions, as well as the\n",
    "{{ pint_pandas }} package to extend functionality to {{ DataFrame }}s. If you happen to be\n",
    "using {{ pint_pandas }} as well, be aware that {{ MagentroData }}'s {class}`pint.UnitRegistry`\n",
    "is set to `pint_pandas.PintType.ureg`, and it is reset with the necessary definitions and\n",
    "conversion contexts each time conversions are performed.\n",
    "```"
   ]
  },
  {
   "cell_type": "markdown",
   "metadata": {},
   "source": [
    "````{tip}\n",
    "Raw data units can be set during instantiation:\n",
    "```python\n",
    "magdata = MagentroData(..., raw_data_units={...})\n",
    "```\n",
    "````"
   ]
  },
  {
   "cell_type": "code",
   "execution_count": null,
   "metadata": {
    "tags": [
     "hide-output"
    ]
   },
   "outputs": [],
   "source": [
    "from IPython.display import display, HTML\n",
    "from magentropy import MagentroData\n",
    "\n",
    "magdata = MagentroData('magdata.csv', qd_dat=False, comment_col=None, T='T', H='H', M='M', M_err='M_err')\n",
    "magdata.process_data()"
   ]
  },
  {
   "cell_type": "markdown",
   "metadata": {},
   "source": [
    "Above, we've read a `.csv` file and processed the data. The default sample mass of 1.0 mg was used.\n",
    "Luckily, the sample mass and all of the raw data units can be set at any time, before or after\n",
    "processing, with the appropriate conversions applied automatically.\n",
    "\n",
    "Right now, the data looks like this:"
   ]
  },
  {
   "cell_type": "code",
   "execution_count": null,
   "metadata": {},
   "outputs": [],
   "source": [
    "def data_heads():\n",
    "    display(HTML('<p>Raw data:</p>'))\n",
    "    display(magdata.raw_df_with_units.head(3))\n",
    "    display(HTML('<p>Converted data:</p>'))\n",
    "    display(magdata.converted_df_with_units.head(3))\n",
    "    display(HTML('<p>Processed data:</p>'))\n",
    "    display(magdata.processed_df_with_units.head(3))\n",
    "\n",
    "data_heads()"
   ]
  },
  {
   "cell_type": "markdown",
   "metadata": {},
   "source": [
    "## Sample mass\n",
    "\n",
    "To change the sample mass, use the {{ sample_mass }} attribute:"
   ]
  },
  {
   "cell_type": "code",
   "execution_count": null,
   "metadata": {},
   "outputs": [],
   "source": [
    "magdata.sample_mass = 0.1\n",
    "data_heads()"
   ]
  },
  {
   "cell_type": "markdown",
   "metadata": {},
   "source": [
    "All of the per-mass columns (`'M_per_mass'`, `'M_per_mass_err'`, `'dM_dT'`, and `'Delta_SM'`)\n",
    "have increased by a factor of 10.\n",
    "\n",
    "Similarly, one can change the units:"
   ]
  },
  {
   "cell_type": "code",
   "execution_count": null,
   "metadata": {},
   "outputs": [],
   "source": [
    "magdata.set_raw_data_units(sample_mass='g')\n",
    "data_heads()"
   ]
  },
  {
   "cell_type": "markdown",
   "metadata": {},
   "source": [
    "The per-mass columns have now decreased by a factor of 1000.\n",
    "\n",
    "{mod}`pint`'s unit string parsing is used to change the units.\n",
    "The logged output confirms that the unit change is as expected."
   ]
  },
  {
   "cell_type": "code",
   "execution_count": null,
   "metadata": {},
   "outputs": [],
   "source": [
    "magdata.set_raw_data_units(sample_mass='gram')\n",
    "magdata.set_raw_data_units(sample_mass='grams')"
   ]
  },
  {
   "cell_type": "markdown",
   "metadata": {},
   "source": [
    "Both the magnitude and the units can be set at once using {{ sample_mass_with_units }}:"
   ]
  },
  {
   "cell_type": "code",
   "execution_count": null,
   "metadata": {},
   "outputs": [],
   "source": [
    "magdata.sample_mass_with_units"
   ]
  },
  {
   "cell_type": "code",
   "execution_count": null,
   "metadata": {},
   "outputs": [],
   "source": [
    "magdata.sample_mass_with_units = (0.5, 'milligrams')\n",
    "data_heads()"
   ]
  },
  {
   "cell_type": "code",
   "execution_count": null,
   "metadata": {},
   "outputs": [],
   "source": [
    "magdata.sample_mass_with_units"
   ]
  },
  {
   "cell_type": "markdown",
   "metadata": {},
   "source": [
    "## Column units\n",
    "\n",
    "The input temperature, magnetic field, and magnetic moment units can be changed\n",
    "using {{ set_raw_data_units }}. The moment error column will get the same units\n",
    "as the moment column. The last four columns are fixed in cgs units."
   ]
  },
  {
   "cell_type": "code",
   "execution_count": null,
   "metadata": {},
   "outputs": [],
   "source": [
    "magdata.set_raw_data_units(T='degC', H='G', M='erg/G')\n",
    "data_heads()"
   ]
  },
  {
   "cell_type": "markdown",
   "metadata": {},
   "source": [
    "A few things to note:\n",
    "\n",
    "1. The short string for \"degrees Celcius\" is `'degC'`; `'C'` stands for \"Coulombs\".\n",
    "\n",
    "2. Changing the input units does not convert the input values themselves. Rather, it\n",
    "determines how they are converted to cgs and SI units. For example, the converted and\n",
    "processed data now begin at about 274.15 K. (Compare to the previous data output.)\n",
    "\n",
    "3. In a vacuum, the conversion from Gauss to Tesla is the same as that from Oersted to Tesla\n",
    "(divide by 10000), so the magnetic field column is unchanged.\n",
    "\n",
    "4. Similarly, 1 emu is defined to be 1 erg/Gauss in the context of measuring magnetic moments,\n",
    "so the magnetic moment column is unchanged.\n",
    "\n",
    "5. Concluding the perhaps underwhelming lack of changes in the data, the unit scale is the same\n",
    "for Celcius as it is for Kelvin, so the `'dM_dT'` and `'Delta_SM'` columns, which depend only on\n",
    "the derivative with respect to temperature, are unchanged."
   ]
  },
  {
   "cell_type": "markdown",
   "metadata": {},
   "source": [
    "## Plotting\n",
    "\n",
    "Temperature and field units will be reflected in the default plot labels and\n",
    "titles when plotting the raw data."
   ]
  },
  {
   "cell_type": "code",
   "execution_count": null,
   "metadata": {
    "tags": [
     "remove-cell"
    ]
   },
   "outputs": [],
   "source": [
    "import matplotlib as mpl\n",
    "mpl.rcParams['figure.dpi'] = 180"
   ]
  },
  {
   "cell_type": "code",
   "execution_count": null,
   "metadata": {
    "mystnb": {
     "image": {
      "alt": "unit conversions plotting example",
      "width": "100%"
     }
    }
   },
   "outputs": [],
   "source": [
    "import matplotlib.pyplot as plt\n",
    "\n",
    "fig, ax = plt.subplots(1, 2, figsize=(12, 5))\n",
    "\n",
    "magdata.plot_lines(data_prop='M_per_mass', data_version='raw', ax=ax[0], legend=True)\n",
    "\n",
    "magdata.plot_map(\n",
    "    data_prop='M_per_mass', data_version='raw', ax=ax[1],\n",
    "    colorbar_kwargs={'ax': ax, 'fraction': 0.05, 'pad': 0.01}\n",
    ");"
   ]
  },
  {
   "cell_type": "markdown",
   "metadata": {},
   "source": [
    "## A note about regularization parameters\n",
    "\n",
    "In general, regularization parameters are dependent on the scale of the data. One might think it\n",
    "necessary, then, to re-process the data after changing the sample mass or raw data units in order\n",
    "to appropriately choose regularization parameters. Internally, however, smoothing is done using\n",
    "the raw values themselves, and conversions happen afterwards. This removes the need to re-process\n",
    "after conversions."
   ]
  }
 ],
 "metadata": {
  "kernelspec": {
   "display_name": "Python 3.10.4 ('magentropy-dev')",
   "language": "python",
   "name": "python3"
  },
  "language_info": {
   "codemirror_mode": {
    "name": "ipython",
    "version": 3
   },
   "file_extension": ".py",
   "mimetype": "text/x-python",
   "name": "python",
   "nbconvert_exporter": "python",
   "pygments_lexer": "ipython3",
   "version": "3.10.4"
  },
  "orig_nbformat": 4,
  "vscode": {
   "interpreter": {
    "hash": "5ab78a24dcd5d2f912eb3dd8dff5c36262a9ffc4f386b5a71d4924d641a6e82d"
   }
  }
 },
 "nbformat": 4,
 "nbformat_minor": 2
}
