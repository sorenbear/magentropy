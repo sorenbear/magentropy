{
 "cells": [
  {
   "cell_type": "markdown",
   "metadata": {},
   "source": [
    "# Quickstart"
   ]
  },
  {
   "cell_type": "markdown",
   "metadata": {},
   "source": [
    "## Installation\n",
    "\n",
    "Install MagentroPy with `pip`:\n",
    "\n",
    "```{code-block} console\n",
    "pip install magentropy\n",
    "```\n",
    "\n",
    "Or, with `conda`:\n",
    "\n",
    "```{code-block} console\n",
    "conda install -c conda-forge magentropy\n",
    "```"
   ]
  },
  {
   "cell_type": "markdown",
   "metadata": {},
   "source": [
    "## Logging\n",
    "\n",
    "The logger can be accessed as follows:"
   ]
  },
  {
   "cell_type": "code",
   "execution_count": null,
   "metadata": {},
   "outputs": [],
   "source": [
    "import logging\n",
    "logger = logging.getLogger('magentropy')"
   ]
  },
  {
   "cell_type": "markdown",
   "metadata": {},
   "source": [
    "## The MagentroData class\n",
    "\n",
    "{{ MagentroData }} serves as a representation of magnetoentropic data and provides\n",
    "methods for reading, processing, and plotting the data. Because MagentroPy depends on other packages\n",
    "such as {mod}`numpy`, {mod}`scipy`, and {mod}`matplotlib`, importing can take several seconds."
   ]
  },
  {
   "cell_type": "code",
   "execution_count": null,
   "metadata": {},
   "outputs": [],
   "source": [
    "from magentropy import MagentroData"
   ]
  },
  {
   "cell_type": "markdown",
   "metadata": {},
   "source": [
    "## Reading data\n",
    "\n",
    "The easiest and most common way to read in data is with a Quantum Design `.dat` output file,\n",
    "such as that produced by an [MPMS3 SQUID Magnetometer](https://www.qdusa.com/products/mpms3.html).\n",
    "The default settings are such that no additional arguments need to be given to the\n",
    "constructor when this is the case.\n",
    "See {doc}`examples/reading_data` for additional information."
   ]
  },
  {
   "cell_type": "code",
   "execution_count": null,
   "metadata": {},
   "outputs": [],
   "source": [
    "magdata = MagentroData('magdata.dat')"
   ]
  },
  {
   "cell_type": "markdown",
   "metadata": {},
   "source": [
    "The sample mass of 0.1 is parsed from the `.dat` file. The default mass units are \"mg\". We can\n",
    "easily view a summary of the object when using a notebook:"
   ]
  },
  {
   "cell_type": "code",
   "execution_count": null,
   "metadata": {},
   "outputs": [],
   "source": [
    "magdata"
   ]
  },
  {
   "cell_type": "markdown",
   "metadata": {},
   "source": [
    "Above, we see the sample mass, raw data, converted data (SI units), processed data\n",
    "(currently empty), and presets, which are the default data processing settings.\n",
    "These are available individually as the attributes {{ sample_mass }}, {{ raw_df }},\n",
    "{{ converted_df }}, {{ processed_df }}, and {{ presets }}. For example:"
   ]
  },
  {
   "cell_type": "code",
   "execution_count": null,
   "metadata": {},
   "outputs": [],
   "source": [
    "magdata.sample_mass"
   ]
  },
  {
   "cell_type": "markdown",
   "metadata": {},
   "source": [
    "Raw units can also be obtained using the {{ get_raw_data_units }} method:"
   ]
  },
  {
   "cell_type": "code",
   "execution_count": null,
   "metadata": {},
   "outputs": [],
   "source": [
    "magdata.get_raw_data_units()"
   ]
  },
  {
   "cell_type": "markdown",
   "metadata": {},
   "source": [
    "Additional information about reading data and changing units can be found in {doc}`examples/reading_data`\n",
    "and {doc}`examples/units_and_conversions`, respectively."
   ]
  },
  {
   "cell_type": "markdown",
   "metadata": {},
   "source": [
    "## Processing data\n",
    "\n",
    "The various settings in {{ presets }} indicate the default arguments for the {{ process_data }} method.\n",
    "These are explored further in {doc}`examples/processing_data`. Here, we smooth the magnetic moment,\n",
    "differentiate with respect to temperature, and integrate with respect to the magnetic field\n",
    "to fill the missing columns in each data attribute."
   ]
  },
  {
   "cell_type": "code",
   "execution_count": null,
   "metadata": {},
   "outputs": [],
   "source": [
    "magdata.process_data()"
   ]
  },
  {
   "cell_type": "markdown",
   "metadata": {},
   "source": [
    "The field groups and regularization (smoothing) parameters are determined automatically by default.\n",
    "We can see that there are five different magnetic field strengths with 100 temperature points each.\n",
    "The {{ processed_df }} attribute now contains the results:"
   ]
  },
  {
   "cell_type": "code",
   "execution_count": null,
   "metadata": {},
   "outputs": [],
   "source": [
    "magdata.processed_df"
   ]
  },
  {
   "cell_type": "markdown",
   "metadata": {},
   "source": [
    "Similarly, one could check that the derivative and entropy have been calculated for the raw data."
   ]
  },
  {
   "cell_type": "markdown",
   "metadata": {},
   "source": [
    "Notice that the error columns in the processed data are empty. An experimental\n",
    "{{ bootstrap }} method is implemented to estimate the error in the smoothed moment.\n",
    "See {doc}`examples/bootstrap_estimates`."
   ]
  },
  {
   "cell_type": "markdown",
   "metadata": {},
   "source": [
    "## Plotting"
   ]
  },
  {
   "cell_type": "code",
   "execution_count": null,
   "metadata": {},
   "outputs": [],
   "source": [
    "import matplotlib.pyplot as plt"
   ]
  },
  {
   "cell_type": "code",
   "execution_count": null,
   "metadata": {
    "tags": [
     "remove-cell"
    ]
   },
   "outputs": [],
   "source": [
    "import matplotlib as mpl\n",
    "mpl.rcParams['figure.dpi'] = 180"
   ]
  },
  {
   "cell_type": "markdown",
   "metadata": {},
   "source": [
    "Line plots and heat maps can be easily created with {{ plot_lines }} and {{ plot_map }}."
   ]
  },
  {
   "cell_type": "code",
   "execution_count": null,
   "metadata": {
    "mystnb": {
     "image": {
      "alt": "plot lines example",
      "width": "70%"
     }
    }
   },
   "outputs": [],
   "source": [
    "fig, ax = plt.subplots(figsize=(6, 4))\n",
    "magdata.plot_lines(data_prop='M_per_mass', data_version='compare', ax=ax);"
   ]
  },
  {
   "cell_type": "code",
   "execution_count": null,
   "metadata": {
    "mystnb": {
     "image": {
      "alt": "plot map example",
      "width": "100%"
     }
    }
   },
   "outputs": [],
   "source": [
    "fig, ax = plt.subplots(1, 2, figsize=(9, 3.75), sharey=True)\n",
    "\n",
    "magdata.plot_map(data_prop='M_per_mass', data_version='converted', ax=ax[0], colorbar=False)\n",
    "\n",
    "magdata.plot_map(\n",
    "    data_prop='M_per_mass', data_version='processed', ax=ax[1], colorbar=True,\n",
    "    colorbar_kwargs={'ax': ax, 'fraction': 0.10, 'pad': 0.05}\n",
    ")\n",
    "\n",
    "ax[1].set_ylabel('');"
   ]
  },
  {
   "cell_type": "markdown",
   "metadata": {},
   "source": [
    "The second figure demonstrates the natural use of {mod}`matplotlib` with the plotting methods.\n",
    "Many additional options are available; see {doc}`examples/plotting` for more information."
   ]
  },
  {
   "cell_type": "markdown",
   "metadata": {},
   "source": [
    "## Writing output\n",
    "\n",
    "Because data is represented as {{ DataFrame }}s, one can use methods such as\n",
    "{meth}`DataFrame.to_csv() <pandas.DataFrame.to_csv>` to write output to files.\n",
    "See {doc}`examples/reading_data` for reading in data from delimited files and\n",
    "{doc}`examples/plotting` for plotting previously-processed data."
   ]
  }
 ],
 "metadata": {
  "kernelspec": {
   "display_name": "Python 3.10.4 ('magentropy-dev')",
   "language": "python",
   "name": "python3"
  },
  "language_info": {
   "codemirror_mode": {
    "name": "ipython",
    "version": 3
   },
   "file_extension": ".py",
   "mimetype": "text/x-python",
   "name": "python",
   "nbconvert_exporter": "python",
   "pygments_lexer": "ipython3",
   "version": "3.10.4"
  },
  "vscode": {
   "interpreter": {
    "hash": "5ab78a24dcd5d2f912eb3dd8dff5c36262a9ffc4f386b5a71d4924d641a6e82d"
   }
  }
 },
 "nbformat": 4,
 "nbformat_minor": 2
}
